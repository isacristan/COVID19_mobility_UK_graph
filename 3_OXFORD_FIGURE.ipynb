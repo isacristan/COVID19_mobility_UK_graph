{
 "cells": [
  {
   "cell_type": "code",
   "execution_count": 2,
   "metadata": {},
   "outputs": [],
   "source": [
    "import matplotlib.pyplot as plt\n",
    "import pandas as pd\n",
    "import numpy as np"
   ]
  },
  {
   "cell_type": "code",
   "execution_count": 57,
   "metadata": {},
   "outputs": [],
   "source": [
    "# root where data is and to store figures\n",
    "root_data = '/Users/ignaciosacristanbarba/Documents/M4R/Data'\n",
    "root_figures = '/Users/ignaciosacristanbarba/Documents/M4R/Figures'\n",
    " \n",
    "# root where the Oxford data is \n",
    "root1 = root_data +'/oxford_index.xlsx'\n",
    "df = pd.read_excel(root1)\n",
    "\n",
    "# create dataframe from data\n",
    "d = {'Date':df.iloc[:,0],'Index':df.iloc[:,1]}\n",
    "df = pd.DataFrame(data=d)\n",
    "\n",
    "# select only dates between start and end dates\n",
    "start_date = '2020-03-10'\n",
    "end_date = '2020-11-30'\n",
    "mask = (df['Date'] >= start_date) & (df['Date'] <= end_date)\n",
    "df = df.loc[mask]\n",
    "\n",
    "# define the columns as separate variables to plot after\n",
    "dates = df.iloc[:,0]\n",
    "index = df.iloc[:,1]\n",
    "\n",
    "# create date range\n",
    "days = pd.date_range(start='2020-03-10', end='2020-11-30').date\n",
    "\n",
    "# define the lockdown dates, nationals and tiered\n",
    "lockdown_date = pd.to_datetime('20200324', format='%Y%m%d', errors='ignore')\n",
    "lockdown_date_number = np.argwhere(days == lockdown_date).flatten()[0]\n",
    "\n",
    "tiers_lockdown_date = pd.to_datetime('20201015', format='%Y%m%d', errors='ignore')\n",
    "tiers_lockdown_date_number = np.argwhere(days == tiers_lockdown_date).flatten()[0]\n",
    "\n",
    "second_lockdown_date = pd.to_datetime('20201105', format='%Y%m%d', errors='ignore')\n",
    "lockdown_date_number = np.argwhere(days == second_lockdown_date).flatten()[0]\n",
    "\n",
    "#plot index with corresponding lines\n",
    "fig,ax = plt.subplots(1,figsize =(10,4))\n",
    "ax.plot(dates,index,'.--')\n",
    "ax.set_ylabel('Stringency Index',size = 14)\n",
    "ax.set_xlabel('Date',size = 14)\n",
    "ax.set_title('Oxford COVID-19 Government Response Tracker Index',size = 15)\n",
    "ax.axvline(lockdown_date,linestyle='dashed', color = 'black',label = 'First Lockdown',linewidth=3)\n",
    "ax.axvline(second_lockdown_date,linestyle='dashed', color = 'blue',label = 'Second Lockdown',linewidth=3)\n",
    "ax.axvline(tiers_lockdown_date,linestyle='dashed', color = 'salmon',label = 'Tier Restrictions Start',linewidth=3)\n",
    "ax.legend(fontsize = 16)\n",
    "#ax.fill_between(x, tiers_lockdown_date, second_lockdown_date, where=y > theta,\n",
    "#                facecolor='green', alpha=0.5, transform=trans)\n",
    "ax.axvspan(tiers_lockdown_date, second_lockdown_date, alpha=0.1, color='salmon',label='Tier Restrictions')\n",
    "\n",
    "fig.savefig(root_figures + '/oxford.pdf')\n",
    "\n"
   ]
  }
 ],
 "metadata": {
  "kernelspec": {
   "display_name": "Python 3",
   "language": "python",
   "name": "python3"
  },
  "language_info": {
   "codemirror_mode": {
    "name": "ipython",
    "version": 3
   },
   "file_extension": ".py",
   "mimetype": "text/x-python",
   "name": "python",
   "nbconvert_exporter": "python",
   "pygments_lexer": "ipython3",
   "version": "3.7.6"
  }
 },
 "nbformat": 4,
 "nbformat_minor": 4
}
